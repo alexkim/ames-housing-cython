{
 "cells": [
  {
   "cell_type": "code",
   "execution_count": 1,
   "metadata": {},
   "outputs": [],
   "source": [
    "import numpy as np"
   ]
  },
  {
   "cell_type": "markdown",
   "metadata": {},
   "source": [
    "# Function Tests for `ridge.pyx`"
   ]
  },
  {
   "cell_type": "code",
   "execution_count": 2,
   "metadata": {},
   "outputs": [
    {
     "name": "stdout",
     "output_type": "stream",
     "text": [
      "(1460, 348)\n"
     ]
    }
   ],
   "source": [
    "import pyximport; pyximport.install()\n",
    "import ridge\n",
    "\n",
    "data = np.genfromtxt(\"data/train_cleaned.csv\", delimiter=\",\", skip_header=1)\n",
    "data = np.delete(data, 0, 1)  # Delete ID column (b/c irrelevant to outcome var)\n",
    "print(data.shape)"
   ]
  },
  {
   "cell_type": "markdown",
   "metadata": {},
   "source": [
    "## `get_loss_gradient`"
   ]
  },
  {
   "cell_type": "code",
   "execution_count": null,
   "metadata": {
    "scrolled": false
   },
   "outputs": [],
   "source": [
    "example = data[7]\n",
    "print(example)\n",
    "weights = np.zeros(data.shape[1] - 1)\n",
    "ridge.get_loss_gradient(example, weights, 3)"
   ]
  },
  {
   "cell_type": "markdown",
   "metadata": {},
   "source": [
    "## `train`"
   ]
  },
  {
   "cell_type": "code",
   "execution_count": null,
   "metadata": {},
   "outputs": [],
   "source": [
    "weights = np.zeros(data.shape[1] - 1)\n",
    "example = data[1]\n",
    "\n",
    "\n",
    "loss_gradient = ridge.get_loss_gradient(example, weights, 0)\n",
    "\n",
    "print(loss_gradient)"
   ]
  },
  {
   "cell_type": "markdown",
   "metadata": {},
   "source": [
    "## `test`"
   ]
  },
  {
   "cell_type": "code",
   "execution_count": 26,
   "metadata": {},
   "outputs": [
    {
     "name": "stdout",
     "output_type": "stream",
     "text": [
      "[[1 0 0]\n",
      " [2 4 6]\n",
      " [3 3 3]]\n",
      "[2 2 2]\n"
     ]
    },
    {
     "data": {
      "text/plain": [
       "array([[1, 0],\n",
       "       [2, 4],\n",
       "       [3, 3]])"
      ]
     },
     "execution_count": 26,
     "metadata": {},
     "output_type": "execute_result"
    }
   ],
   "source": [
    "matrix = np.array([[1,0,0], [2,4,6], [3,3,3]])\n",
    "print(matrix)\n",
    "\n",
    "vec = np.array([2, 2, 2])\n",
    "print(vec)\n",
    "\n",
    "np.dot(matrix, vec)\n",
    "\n",
    "np.delete(matrix, -1, 1)"
   ]
  },
  {
   "cell_type": "markdown",
   "metadata": {},
   "source": [
    "# 1D Data"
   ]
  },
  {
   "cell_type": "code",
   "execution_count": null,
   "metadata": {},
   "outputs": [],
   "source": [
    "a = np.array([1, 2, 3, 4])\n",
    "list(range(a.shape[0]))"
   ]
  },
  {
   "cell_type": "code",
   "execution_count": null,
   "metadata": {},
   "outputs": [],
   "source": [
    "example = np.array([1, 2, 3, 5, 8, 13])\n",
    "\n",
    "feature_vector = np.delete(example, -1, 0)\n",
    "response_value = example[-1]\n",
    "\n",
    "print(feature_vector, \"\\n\", response_value)"
   ]
  },
  {
   "cell_type": "code",
   "execution_count": null,
   "metadata": {},
   "outputs": [],
   "source": [
    "vec1 = [1, 2, 3]\n",
    "vec2 = [2, 2, 2]\n",
    "\n",
    "# vec1 (dot) vec2 = 2 + 4 + 6 = 12\n",
    "np.dot(vec1, vec2)"
   ]
  },
  {
   "cell_type": "markdown",
   "metadata": {},
   "source": [
    "# Data Import (to NumPy array)\n",
    "[np.genfromtext](https://docs.scipy.org/doc/numpy-1.13.0/user/basics.io.genfromtxt.html)  \n",
    "[np.delete](https://docs.scipy.org/doc/numpy/reference/generated/numpy.delete.html)"
   ]
  },
  {
   "cell_type": "code",
   "execution_count": null,
   "metadata": {},
   "outputs": [],
   "source": [
    "data = np.genfromtxt(\"data/train_cleaned.csv\", delimiter=\",\", skip_header=1)\n",
    "data = np.delete(data, 0, 1)  # Delete ID column (b/c irrelevant to outcome var)"
   ]
  },
  {
   "cell_type": "code",
   "execution_count": null,
   "metadata": {},
   "outputs": [],
   "source": [
    "data.shape[0]"
   ]
  }
 ],
 "metadata": {
  "kernelspec": {
   "display_name": "Python 3",
   "language": "python",
   "name": "python3"
  },
  "language_info": {
   "codemirror_mode": {
    "name": "ipython",
    "version": 3
   },
   "file_extension": ".py",
   "mimetype": "text/x-python",
   "name": "python",
   "nbconvert_exporter": "python",
   "pygments_lexer": "ipython3",
   "version": "3.6.7"
  }
 },
 "nbformat": 4,
 "nbformat_minor": 2
}
